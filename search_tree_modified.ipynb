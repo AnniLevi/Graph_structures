{
 "cells": [
  {
   "cell_type": "code",
   "execution_count": 2,
   "metadata": {},
   "outputs": [],
   "source": [
    "from typing import List, Union\n",
    "\n",
    "\n",
    "class Student:\n",
    "        \n",
    "    def __init__(self, name, mark):\n",
    "        self.name = name\n",
    "        self.mark = mark\n",
    "        self.left = None\n",
    "        self.right = None\n",
    "        self.parent = None\n",
    "    \n",
    "    \n",
    "    def __repr__(self):\n",
    "        return f\"{self.name}|{self.mark}\"\n",
    "    \n",
    "    \n",
    "    \n",
    "class Manager:\n",
    "    \n",
    "    def __init__(self, root: Student):\n",
    "        self.root = root\n",
    "        \n",
    "        \n",
    "    def add(self, new_node: Student):\n",
    "        cursor = self.root\n",
    "        while True:\n",
    "            if new_node.mark > cursor.mark:\n",
    "                if cursor.right is None:\n",
    "                    cursor.right = new_node\n",
    "                    new_node.parent = cursor\n",
    "                    break\n",
    "                else:\n",
    "                    cursor = cursor.right\n",
    "            else:\n",
    "                if cursor.left is None:\n",
    "                    cursor.left = new_node\n",
    "                    new_node.parent = cursor\n",
    "                    break\n",
    "                else:\n",
    "                    cursor = cursor.left\n",
    "    \n",
    "    \n",
    "    def find(self, mark: float) -> Union[Student, None]:\n",
    "        cursor = self.root\n",
    "        while True:\n",
    "            if mark == cursor.mark:\n",
    "                return cursor\n",
    "            elif mark > cursor.mark:\n",
    "                if cursor.right:\n",
    "                    cursor = cursor.right\n",
    "                else:\n",
    "                    return\n",
    "            else:\n",
    "                if cursor.left:\n",
    "                    cursor = cursor.left\n",
    "                else:\n",
    "                    return \n",
    "    \n",
    "    \n",
    "    def find_all(self, mark: float) -> List[Student]:\n",
    "        students = []\n",
    "        cursor = self.root\n",
    "        direction = None\n",
    "        while True:\n",
    "            if mark == cursor.mark:   \n",
    "                students.append(cursor)\n",
    "                direction = cursor.left\n",
    "            elif mark < cursor.mark:\n",
    "                direction = cursor.left\n",
    "            else:\n",
    "                direction = cursor.right\n",
    "            if direction:\n",
    "                cursor = direction\n",
    "            else:\n",
    "                return students        \n",
    "            \n",
    "            \n",
    "    def delete_node(self, mark):\n",
    "        node_to_del = self.find(mark=mark)\n",
    "        if not node_to_del:\n",
    "            return False\n",
    "\n",
    "        if node_to_del.right and node_to_del.left:\n",
    "            replacement = node_to_del.left\n",
    "            left_child = node_to_del\n",
    "            while replacement.right:\n",
    "                replacement = replacement.right\n",
    "                left_child = node_to_del.left\n",
    "\n",
    "            if node_to_del.parent:\n",
    "                replacement.parent, node_to_del.parent = node_to_del.parent, replacement.parent\n",
    "                if replacement.parent.left == node_to_del:\n",
    "                    replacement.parent.left = replacement\n",
    "                else:\n",
    "                    replacement.parent.right = replacement\n",
    "            else:\n",
    "                replacement.parent, node_to_del.parent = None, replacement.parent\n",
    "                \n",
    "            replacement.right, node_to_del.right = node_to_del.right, None\n",
    "            replacement.right.parent = replacement\n",
    "            \n",
    "            if replacement.left:\n",
    "                replacement.left, node_to_del.left = left_child, replacement.left\n",
    "                replacement.left.parent, node_to_del.left.parent = replacement, node_to_del\n",
    "            else:\n",
    "                replacement.left, node_to_del.left = node_to_del, None\n",
    "                replacement.left.parent = replacement\n",
    "\n",
    "        if node_to_del.right and not node_to_del.left:\n",
    "            replacement = node_to_del.right\n",
    "        elif not node_to_del.right and node_to_del.left:\n",
    "            replacement = node_to_del.left\n",
    "        elif not node_to_del.right and not node_to_del.left:\n",
    "            replacement = None\n",
    "            \n",
    "        if node_to_del.parent:\n",
    "            if replacement:\n",
    "                replacement.parent = node_to_del.parent\n",
    "            if node_to_del.parent.left == node_to_del:\n",
    "                node_to_del.parent.left = replacement\n",
    "            else:\n",
    "                node_to_del.parent.right = replacement\n",
    "        elif not node_to_del.parent and replacement:\n",
    "            replacement.parent = None          \n",
    "\n",
    "        del node_to_del\n",
    "        return True"
   ]
  },
  {
   "cell_type": "code",
   "execution_count": 3,
   "metadata": {},
   "outputs": [],
   "source": [
    "s1 = Student(\"A\", 10)\n",
    "s2 = Student(\"B\", 8)\n",
    "s3 = Student(\"C\", 5)\n",
    "s4 = Student(\"D\", 5)\n",
    "s5 = Student(\"E\", 7)\n",
    "s6 = Student(\"F\", 6)\n",
    "s7 = Student(\"G\", 9)\n",
    "s8 = Student(\"H\", 9)\n",
    "s9 = Student(\"I\", 12)\n",
    "s10 = Student(\"J\", 14)"
   ]
  },
  {
   "cell_type": "code",
   "execution_count": 4,
   "metadata": {},
   "outputs": [],
   "source": [
    "m = Manager(s1)\n",
    "m.add(s2)\n",
    "m.add(s3)\n",
    "m.add(s4)\n",
    "m.add(s5)\n",
    "m.add(s6)\n",
    "m.add(s7)\n",
    "m.add(s8)\n",
    "m.add(s9)\n",
    "m.add(s10)"
   ]
  },
  {
   "cell_type": "code",
   "execution_count": 5,
   "metadata": {},
   "outputs": [
    {
     "name": "stdout",
     "output_type": "stream",
     "text": [
      "A|10\n",
      "I|12\n",
      "J|14\n",
      "B|8\n",
      "G|9\n",
      "H|9\n",
      "C|5\n",
      "E|7\n",
      "F|6\n",
      "D|5\n"
     ]
    }
   ],
   "source": [
    "def my_print(root):\n",
    "    print(root)\n",
    "    if root.right is not None:\n",
    "        my_print(root.right)\n",
    "    if root.left is not None:\n",
    "        my_print(root.left)\n",
    "\n",
    "my_print(s1)"
   ]
  },
  {
   "cell_type": "code",
   "execution_count": 6,
   "metadata": {},
   "outputs": [
    {
     "data": {
      "text/plain": [
       "True"
      ]
     },
     "execution_count": 6,
     "metadata": {},
     "output_type": "execute_result"
    }
   ],
   "source": [
    "m.delete_node(8)"
   ]
  },
  {
   "cell_type": "code",
   "execution_count": 7,
   "metadata": {},
   "outputs": [
    {
     "name": "stdout",
     "output_type": "stream",
     "text": [
      "A|10\n",
      "I|12\n",
      "J|14\n",
      "E|7\n",
      "G|9\n",
      "H|9\n",
      "C|5\n",
      "F|6\n",
      "D|5\n"
     ]
    }
   ],
   "source": [
    "my_print(s1)"
   ]
  },
  {
   "cell_type": "code",
   "execution_count": null,
   "metadata": {},
   "outputs": [],
   "source": []
  }
 ],
 "metadata": {
  "kernelspec": {
   "display_name": "Python 3",
   "language": "python",
   "name": "python3"
  },
  "language_info": {
   "codemirror_mode": {
    "name": "ipython",
    "version": 3
   },
   "file_extension": ".py",
   "mimetype": "text/x-python",
   "name": "python",
   "nbconvert_exporter": "python",
   "pygments_lexer": "ipython3",
   "version": "3.8.5"
  }
 },
 "nbformat": 4,
 "nbformat_minor": 4
}
