{
 "cells": [
  {
   "cell_type": "code",
   "execution_count": 1,
   "metadata": {},
   "outputs": [
    {
     "name": "stdout",
     "output_type": "stream",
     "text": [
      "{'s': 0, 'v': 1, 'w': 3, 't': 6}\n"
     ]
    }
   ],
   "source": [
    "graph = {\n",
    "    \"s\": {\"v\": 1, \"w\": 4},\n",
    "    \"v\": {\"s\": 1, \"w\": 2, \"t\": 6},\n",
    "    \"w\": {\"s\": 4, \"v\": 2, \"t\": 3},\n",
    "    \"t\": {\"v\": 6, \"w\": 3}\n",
    "}\n",
    "\n",
    "\n",
    "def dijkstra(graph, node):\n",
    "    shortest_paths = {node: 0}\n",
    "    dijkstra_scores = {}\n",
    "    while len(shortest_paths) < len(graph):\n",
    "        for point, edge in graph[node].items():\n",
    "            if point in shortest_paths:\n",
    "                continue\n",
    "            distance = shortest_paths[node] + edge\n",
    "            if point not in dijkstra_scores or distance < dijkstra_scores[point]:\n",
    "                dijkstra_scores[point] = distance\n",
    "        new_node = min(dijkstra_scores, key=lambda x: dijkstra_scores[x])\n",
    "        shortest_paths[new_node] = dijkstra_scores.pop(new_node)\n",
    "        node = new_node\n",
    "    return shortest_paths\n",
    "\n",
    "\n",
    "print(dijkstra(graph, 's'))"
   ]
  },
  {
   "cell_type": "code",
   "execution_count": null,
   "metadata": {},
   "outputs": [],
   "source": []
  }
 ],
 "metadata": {
  "kernelspec": {
   "display_name": "Python 3",
   "language": "python",
   "name": "python3"
  },
  "language_info": {
   "codemirror_mode": {
    "name": "ipython",
    "version": 3
   },
   "file_extension": ".py",
   "mimetype": "text/x-python",
   "name": "python",
   "nbconvert_exporter": "python",
   "pygments_lexer": "ipython3",
   "version": "3.8.5"
  }
 },
 "nbformat": 4,
 "nbformat_minor": 4
}
