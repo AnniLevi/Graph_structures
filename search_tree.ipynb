{
 "cells": [
  {
   "cell_type": "code",
   "execution_count": 3,
   "metadata": {},
   "outputs": [
    {
     "data": {
      "text/plain": [
       "TestResults(failed=0, attempted=21)"
      ]
     },
     "execution_count": 3,
     "metadata": {},
     "output_type": "execute_result"
    }
   ],
   "source": [
    "from doctest import testmod\n",
    "from typing import List, Union\n",
    "\n",
    "\n",
    "class Student:\n",
    "    \"\"\"\n",
    "    >>> s1 = Student(\"Oleg\", 6)\n",
    "    >>> s1\n",
    "    Oleg|6\n",
    "    >>> s2 = Student(\"Vadim\", 8)\n",
    "    >>> s2\n",
    "    Vadim|8\n",
    "    >>> s3 = Student(\"Andrey\", 5)\n",
    "    >>> s3\n",
    "    Andrey|5\n",
    "    \"\"\"\n",
    "        \n",
    "    def __init__(self, name, mark):\n",
    "        self.name = name\n",
    "        self.mark = mark\n",
    "        self.left = None\n",
    "        self.right = None\n",
    "        self.parent = None\n",
    "    \n",
    "    \n",
    "    def __repr__(self):\n",
    "        return f\"{self.name}|{self.mark}\"\n",
    "    \n",
    "    \n",
    "    \n",
    "class Manager:\n",
    "    \"\"\"\n",
    "    >>> s1 = Student(\"Oleg\", 6)\n",
    "    >>> s2 = Student(\"Vadim\", 8)\n",
    "    >>> s3 = Student(\"Andrey\", 5)\n",
    "    >>> s4 = Student(\"Kirill\", 5)\n",
    "    \n",
    "    >>> m = Manager(s1)\n",
    "    >>> m.add(s2)\n",
    "    >>> m.add(s3)\n",
    "    >>> m.add(s4)\n",
    "\n",
    "    >>> s1.right\n",
    "    Vadim|8\n",
    "    >>> s1.left\n",
    "    Andrey|5\n",
    "    >>> s2.parent\n",
    "    Oleg|6\n",
    "    \n",
    "    >>> m.find(8)\n",
    "    Vadim|8\n",
    "    >>> m.find(3)\n",
    "    \n",
    "    >>> m.find_all(5)\n",
    "    [Andrey|5, Kirill|5]\n",
    "    >>> m.find_all(3)\n",
    "    []\n",
    "    \"\"\"    \n",
    "    \n",
    "    \n",
    "    def __init__(self, root: Student):\n",
    "        self.root = root\n",
    "        \n",
    "        \n",
    "    def add(self, new_node: Student):\n",
    "        cursor = self.root\n",
    "        while True:\n",
    "            if new_node.mark > cursor.mark:\n",
    "                if cursor.right is None:\n",
    "                    cursor.right = new_node\n",
    "                    new_node.parent = cursor\n",
    "                    break\n",
    "                else:\n",
    "                    cursor = cursor.right\n",
    "            else:\n",
    "                if cursor.left is None:\n",
    "                    cursor.left = new_node\n",
    "                    new_node.parent = cursor\n",
    "                    break\n",
    "                else:\n",
    "                    cursor = cursor.left\n",
    "    \n",
    "    \n",
    "    def find(self, mark: float) -> Union[Student, None]:\n",
    "        cursor = self.root\n",
    "        while True:\n",
    "            if mark == cursor.mark:\n",
    "                return cursor\n",
    "            elif mark > cursor.mark:\n",
    "                if cursor.right:\n",
    "                    cursor = cursor.right\n",
    "                else:\n",
    "                    return\n",
    "            else:\n",
    "                if cursor.left:\n",
    "                    cursor = cursor.left\n",
    "                else:\n",
    "                    return \n",
    "    \n",
    "    \n",
    "    def find_all(self, mark: float) -> List[Student]:\n",
    "        students = []\n",
    "        cursor = self.root\n",
    "        direction = None\n",
    "        while True:\n",
    "            if mark == cursor.mark:   \n",
    "                students.append(cursor)\n",
    "                direction = cursor.left\n",
    "            elif mark < cursor.mark:\n",
    "                direction = cursor.left\n",
    "            else:\n",
    "                direction = cursor.right\n",
    "            if direction:\n",
    "                cursor = direction\n",
    "            else:\n",
    "                return students        \n",
    "            \n",
    "            \n",
    "testmod()"
   ]
  },
  {
   "cell_type": "code",
   "execution_count": 6,
   "metadata": {},
   "outputs": [],
   "source": [
    "s1 = Student(\"Euval\", 5)\n",
    "s2 = Student(\"Oded\", 6)\n",
    "s3 = Student(\"Molad\", 4)\n",
    "s4 = Student(\"Egor\", 6)\n",
    "s5 = Student(\"Schashar\", 5)\n",
    "s6 = Student(\"Eyal\", 4)"
   ]
  },
  {
   "cell_type": "code",
   "execution_count": 7,
   "metadata": {},
   "outputs": [],
   "source": [
    "m = Manager(s1)\n",
    "m.add(s2)\n",
    "m.add(s3)\n",
    "m.add(s4)\n",
    "m.add(s5)\n",
    "m.add(s6)"
   ]
  },
  {
   "cell_type": "code",
   "execution_count": 8,
   "metadata": {},
   "outputs": [
    {
     "name": "stdout",
     "output_type": "stream",
     "text": [
      "Euval|5\n",
      "Oded|6\n",
      "Egor|6\n",
      "Molad|4\n",
      "Schashar|5\n",
      "Eyal|4\n"
     ]
    }
   ],
   "source": [
    "def my_print(root):\n",
    "    print(root)\n",
    "    if root.right is not None:\n",
    "        my_print(root.right)\n",
    "    if root.left is not None:\n",
    "        my_print(root.left)\n",
    "\n",
    "my_print(s1)"
   ]
  },
  {
   "cell_type": "code",
   "execution_count": 9,
   "metadata": {},
   "outputs": [],
   "source": [
    "from queue import deque\n",
    "\n",
    "def get_students(root):\n",
    "    students = deque()\n",
    "    while root.right or root.left or students:\n",
    "        print(root)\n",
    "        if root.right:\n",
    "            students.append(root.right)\n",
    "        if root.left:\n",
    "            students.append(root.left)\n",
    "        root = students.pop()\n",
    "    print(root)"
   ]
  },
  {
   "cell_type": "code",
   "execution_count": 10,
   "metadata": {},
   "outputs": [
    {
     "name": "stdout",
     "output_type": "stream",
     "text": [
      "Euval|5\n",
      "Molad|4\n",
      "Eyal|4\n",
      "Schashar|5\n",
      "Oded|6\n",
      "Egor|6\n"
     ]
    }
   ],
   "source": [
    "get_students(s1)"
   ]
  },
  {
   "cell_type": "code",
   "execution_count": 11,
   "metadata": {},
   "outputs": [],
   "source": [
    "def get_students(root):\n",
    "    waiting = deque()\n",
    "    students = []\n",
    "    while root.right or root.left or waiting:\n",
    "        students.append(root)\n",
    "        if root.right:\n",
    "            waiting.append(root.right)\n",
    "        if root.left:\n",
    "            waiting.append(root.left)\n",
    "        root = waiting.pop()\n",
    "    students.append(root)\n",
    "    return students"
   ]
  },
  {
   "cell_type": "code",
   "execution_count": 12,
   "metadata": {},
   "outputs": [
    {
     "data": {
      "text/plain": [
       "[Euval|5, Molad|4, Eyal|4, Schashar|5, Oded|6, Egor|6]"
      ]
     },
     "execution_count": 12,
     "metadata": {},
     "output_type": "execute_result"
    }
   ],
   "source": [
    "get_students(s1)"
   ]
  }
 ],
 "metadata": {
  "kernelspec": {
   "display_name": "Python 3",
   "language": "python",
   "name": "python3"
  },
  "language_info": {
   "codemirror_mode": {
    "name": "ipython",
    "version": 3
   },
   "file_extension": ".py",
   "mimetype": "text/x-python",
   "name": "python",
   "nbconvert_exporter": "python",
   "pygments_lexer": "ipython3",
   "version": "3.8.5"
  }
 },
 "nbformat": 4,
 "nbformat_minor": 4
}
